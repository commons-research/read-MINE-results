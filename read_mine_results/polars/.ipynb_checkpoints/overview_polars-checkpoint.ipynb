{
 "cells": [
  {
   "cell_type": "code",
   "execution_count": null,
   "id": "dedda85e-df0c-4e03-b9ed-d010fa04e7c7",
   "metadata": {},
   "outputs": [],
   "source": [
    "%%time\n",
    "\n",
    "import polars as pl\n",
    "\n",
    "\n",
    "# change the configsetting, to see the full tables\n",
    "pl.Config.set_tbl_rows(100)\n",
    "pl.Config(fmt_str_lengths=550)\n",
    "\n",
    "\n",
    "# load one \"compound\" file (~4.2 Gb)\n",
    "path = \"../../../MINE-Database/data/output/metacyc_generalized/20240601_lotus_generalized_n45/compounds_1_generalized_230106_frozen_metadata_for_MINES_split_*1.csv*.parquet\"\n",
    "\n",
    "# load in with polars and filter out only the predicted -> Lazydataframe\n",
    "df_predicted = (\n",
    "    pl.scan_parquet(path).filter(pl.col(\"Type\") == \"Predicted\")\n",
    "    )\n",
    "\n",
    "df = df_predicted.collect()"
   ]
  },
  {
   "cell_type": "code",
   "execution_count": 2,
   "id": "45af47a7-030e-4811-a59c-78d28b5b77fa",
   "metadata": {},
   "outputs": [
    {
     "data": {
      "text/plain": [
       "(120378471, 6)"
      ]
     },
     "execution_count": 2,
     "metadata": {},
     "output_type": "execute_result"
    }
   ],
   "source": [
    "df.shape\n",
    "\n",
    "df"
   ]
  },
  {
   "cell_type": "code",
   "execution_count": 10,
   "id": "05dc3c57-88f7-4c62-ab0f-19799f431035",
   "metadata": {},
   "outputs": [],
   "source": [
    "import sys\n",
    "\n",
    "def check_element_in_list(element, lst, verbose=False):\n",
    "    try:\n",
    "        if element not in lst:\n",
    "            if verbose:\n",
    "                print(f\"Element {element} not found in the list. \\nPlease choose from the following columns:\\n{lst}\")\n",
    "            sys.exit(1)  # Exit the script with a non-zero status\n",
    "        else:\n",
    "            if verbose:\n",
    "                print(f\"Element {element} is in the list.\")\n",
    "    except Exception as e:\n",
    "        print(f\"An error occurred: {e}\")\n",
    "        sys.exit(1)\n",
    "\n",
    "\n",
    "def duplicates_amount(lazy_df, column_to_search=\"\"):\n",
    "    \"\"\"\n",
    "    \"\"\"\n",
    "    all_columns = df_predicted.columns\n",
    "\n",
    "    # Specify the column you want to check for duplicates\n",
    "    if not column_to_search:\n",
    "        column_to_search = all_columns\n",
    "    else:\n",
    "        check_element_in_list(column_to_search, all_columns)\n",
    "\n",
    "    # Find duplicates and collect them (for lazy dataframes)\n",
    "    df_duplicates = df_predicted.group_by(column_to_search).agg(pl.len()).filter(pl.col(\"len\") > 1)\n",
    "    df_duplicates_collected = df_duplicates.collect()\n",
    "\n",
    "    return df_duplicates_collected"
   ]
  },
  {
   "cell_type": "code",
   "execution_count": 11,
   "id": "4075d191-401d-4bcd-afce-71359e484d91",
   "metadata": {},
   "outputs": [
    {
     "name": "stdout",
     "output_type": "stream",
     "text": [
      "duplicates in InChIKey\n",
      "\n",
      "shape: (5_856_617, 2)\n",
      "┌─────────────────────────────┬─────┐\n",
      "│ InChIKey                    ┆ len │\n",
      "│ ---                         ┆ --- │\n",
      "│ str                         ┆ u32 │\n",
      "╞═════════════════════════════╪═════╡\n",
      "│ GBPWROKTDBEDRP-UHFFFAOYSA-N ┆ 2   │\n",
      "│ ISYWXXNLLAPDBH-UHFFFAOYSA-N ┆ 2   │\n",
      "│ AGFIXWAZWVWOFN-UHFFFAOYSA-N ┆ 2   │\n",
      "│ IEGVJHQWKTYPHX-UHFFFAOYSA-N ┆ 2   │\n",
      "│ PXIJFCQHORCHIC-UHFFFAOYSA-N ┆ 2   │\n",
      "│ …                           ┆ …   │\n",
      "│ AOFBKZGFAAPNCV-UHFFFAOYSA-N ┆ 2   │\n",
      "│ BTNYQXQCUORBMC-UHFFFAOYSA-N ┆ 3   │\n",
      "│ QKRLRASFOJSRIU-UHFFFAOYSA-N ┆ 2   │\n",
      "│ OMPGVGWQTUDHJF-UHFFFAOYSA-N ┆ 2   │\n",
      "│ RQAZWGMMQKFKDT-UHFFFAOYSA-N ┆ 2   │\n",
      "└─────────────────────────────┴─────┘\n",
      "---\n",
      "\n",
      "CPU times: user 55.9 s, sys: 9.07 s, total: 1min 4s\n",
      "Wall time: 37.9 s\n"
     ]
    }
   ],
   "source": [
    "%%time \n",
    "\n",
    "# choose a column - ['ID', 'Type', 'Generation', 'Formula', 'InChIKey', 'SMILES']\n",
    "all_columns = df_predicted.columns\n",
    "column_name = \"InChIKey\"\n",
    "\n",
    "# search for duplicates (gives back a dataframe - collected)\n",
    "df_duplicates_collected = duplicates_amount(df_predicted, column_to_search = column_name)\n",
    "\n",
    "# Print the duplicates\n",
    "print(f'duplicates in {column_name}\\n\\n{df_duplicates_collected}\\n---\\n')"
   ]
  },
  {
   "cell_type": "code",
   "execution_count": 16,
   "id": "4e98e2a8-704b-4490-bc2b-71f2d5ffa137",
   "metadata": {},
   "outputs": [
    {
     "name": "stdout",
     "output_type": "stream",
     "text": [
      "duplications: shape: (4,)\n",
      "Series: 'len' [u32]\n",
      "[\n",
      "\t2\n",
      "\t3\n",
      "\t4\n",
      "\t5\n",
      "]\n"
     ]
    },
    {
     "data": {
      "text/html": [
       "<div><style>\n",
       ".dataframe > thead > tr,\n",
       ".dataframe > tbody > tr {\n",
       "  text-align: right;\n",
       "  white-space: pre-wrap;\n",
       "}\n",
       "</style>\n",
       "<small>shape: (13_651, 2)</small><table border=\"1\" class=\"dataframe\"><thead><tr><th>InChIKey</th><th>len</th></tr><tr><td>str</td><td>u32</td></tr></thead><tbody><tr><td>&quot;ZAHBPYBIXMGFFK…</td><td>5</td></tr><tr><td>&quot;ILYVLUHOJHGJKX…</td><td>5</td></tr><tr><td>&quot;IOTDQPHYHNCXAW…</td><td>5</td></tr><tr><td>&quot;LDXGPSPFDXHTIM…</td><td>5</td></tr><tr><td>&quot;AKQFFUOKLHMDMS…</td><td>5</td></tr><tr><td>&hellip;</td><td>&hellip;</td></tr><tr><td>&quot;PATHBLPNVPVFOE…</td><td>5</td></tr><tr><td>&quot;JJPAAWDFFPTLNU…</td><td>5</td></tr><tr><td>&quot;VKCHEYIDBYCQPR…</td><td>5</td></tr><tr><td>&quot;KYSPHWNJKVTMDP…</td><td>5</td></tr><tr><td>&quot;QWXZDWGILRRMRQ…</td><td>5</td></tr></tbody></table></div>"
      ],
      "text/plain": [
       "shape: (13_651, 2)\n",
       "┌─────────────────────────────┬─────┐\n",
       "│ InChIKey                    ┆ len │\n",
       "│ ---                         ┆ --- │\n",
       "│ str                         ┆ u32 │\n",
       "╞═════════════════════════════╪═════╡\n",
       "│ ZAHBPYBIXMGFFK-UHFFFAOYSA-N ┆ 5   │\n",
       "│ ILYVLUHOJHGJKX-UHFFFAOYSA-N ┆ 5   │\n",
       "│ IOTDQPHYHNCXAW-UHFFFAOYSA-N ┆ 5   │\n",
       "│ LDXGPSPFDXHTIM-UHFFFAOYSA-N ┆ 5   │\n",
       "│ AKQFFUOKLHMDMS-UHFFFAOYSA-N ┆ 5   │\n",
       "│ …                           ┆ …   │\n",
       "│ PATHBLPNVPVFOE-UHFFFAOYSA-N ┆ 5   │\n",
       "│ JJPAAWDFFPTLNU-UHFFFAOYSA-N ┆ 5   │\n",
       "│ VKCHEYIDBYCQPR-UHFFFAOYSA-N ┆ 5   │\n",
       "│ KYSPHWNJKVTMDP-UHFFFAOYSA-N ┆ 5   │\n",
       "│ QWXZDWGILRRMRQ-UHFFFAOYSA-N ┆ 5   │\n",
       "└─────────────────────────────┴─────┘"
      ]
     },
     "execution_count": 16,
     "metadata": {},
     "output_type": "execute_result"
    }
   ],
   "source": [
    "print(f'duplications: {df_duplicates_collected[\"len\"].unique()}')\n",
    "\n",
    "df_duplicates_collected.filter(pl.col(\"len\")==5)"
   ]
  },
  {
   "cell_type": "code",
   "execution_count": 46,
   "id": "a7d50220-be47-41e1-acd5-f2dde5fb6851",
   "metadata": {},
   "outputs": [],
   "source": [
    "# load one \"compound\" file (~4.2 Gb)\n",
    "path = \"../../../MINE-Database/data/output/metacyc_generalized/20240601_lotus_generalized_n45/results/split_0/result_1_generalized_230106_frozen_metadata_for_MINES_split_00.csv_77226.91_.parquet\"\n",
    "\n",
    "# load in with polars and filter out only the predicted -> Lazydataframe\n",
    "df_predicted = (\n",
    "    pl.scan_parquet(path)\n",
    "    #.filter(pl.col(\"Type\") == \"Predicted\")\n",
    "    )"
   ]
  },
  {
   "cell_type": "code",
   "execution_count": null,
   "id": "e5d45b22-1c72-4955-ac6b-89307dd3b5c1",
   "metadata": {},
   "outputs": [],
   "source": [
    "# check if any table from pickaxe has nulls!\n",
    "path = \"../../../MINE-Database/data/output/metacyc_generalized/20240601_lotus_generalized_n45/reactions_1_generalized_230106_frozen_metadata_for_MINES_split_*.parquet\"\n",
    "\n",
    "# load in with polars and filter out only the predicted -> Lazydataframe\n",
    "df_predicted = (\n",
    "    pl.scan_parquet(path)\n",
    "    #.filter(pl.col(\"Type\") == \"Predicted\")\n",
    "    )\n",
    "\n",
    "\n",
    "filtered_lazy_frame = (\n",
    "    df_predicted\n",
    "    .filter(\n",
    "        pl.any_horizontal(pl.all().is_null())\n",
    "    )\n",
    ")\n",
    "\n",
    "# Collect the filtered LazyFrame into a concrete DataFrame\n",
    "filtered_df = filtered_lazy_frame.collect()\n",
    "\n",
    "print(\"Filtered DataFrame:\")\n",
    "print(filtered_df)"
   ]
  },
  {
   "cell_type": "code",
   "execution_count": null,
   "id": "29455a0e-7593-4ca2-95a5-a85c8828ff4f",
   "metadata": {},
   "outputs": [],
   "source": [
    "\n",
    "%%time\n",
    "\n",
    "import polars as pl\n",
    "\n",
    "\n",
    "# change the configsetting, to see the full tables\n",
    "pl.Config.set_tbl_rows(100)\n",
    "pl.Config(fmt_str_lengths=550)\n",
    "\n",
    "path = \"../../../MINE-Database/data/output/metacyc_generalized/20240601_lotus_generalized_n45/results/split_0/result_1_generalized_230106_frozen_metadata_for_MINES_split_00.csv_77226.91_.parquet\"\n",
    "\n",
    "# load in with polars and filter out only the predicted -> Lazydataframe\n",
    "df_predicted = (\n",
    "    pl.scan_parquet(path)\n",
    "    #.filter(pl.col(\"Type\") == \"Predicted\")\n",
    "    )"
   ]
  },
  {
   "cell_type": "code",
   "execution_count": null,
   "id": "95e8a220-9b13-4f3d-84f8-f5f458a648b9",
   "metadata": {},
   "outputs": [],
   "source": [
    "%%time\n",
    "\n",
    "df_predicted.collect().columns"
   ]
  },
  {
   "cell_type": "code",
   "execution_count": null,
   "id": "318f6f7b-59ad-42f6-a5d9-4cfe9fecd0e1",
   "metadata": {},
   "outputs": [],
   "source": [
    "df = pl.read"
   ]
  }
 ],
 "metadata": {
  "kernelspec": {
   "display_name": "Python 3 (ipykernel)",
   "language": "python",
   "name": "python3"
  },
  "language_info": {
   "codemirror_mode": {
    "name": "ipython",
    "version": 3
   },
   "file_extension": ".py",
   "mimetype": "text/x-python",
   "name": "python",
   "nbconvert_exporter": "python",
   "pygments_lexer": "ipython3",
   "version": "3.10.14"
  }
 },
 "nbformat": 4,
 "nbformat_minor": 5
}
