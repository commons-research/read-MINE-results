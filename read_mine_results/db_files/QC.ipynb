{
 "cells": [
  {
   "cell_type": "markdown",
   "id": "0f3b7cba-e26a-4168-a96e-a4ec9ffca8d9",
   "metadata": {},
   "source": [
    "# Check if the files are correctly renamed"
   ]
  },
  {
   "cell_type": "code",
   "execution_count": 3,
   "id": "a46639ad-b3de-46c2-ae98-7b093456dcfa",
   "metadata": {},
   "outputs": [
    {
     "data": {
      "text/html": [
       "<div><style>\n",
       ".dataframe > thead > tr,\n",
       ".dataframe > tbody > tr {\n",
       "  text-align: right;\n",
       "  white-space: pre-wrap;\n",
       "}\n",
       "</style>\n",
       "<small>shape: (24_182_493, 5)</small><table border=\"1\" class=\"dataframe\"><thead><tr><th>ID</th><th>Type</th><th>Formula</th><th>InChIKey</th><th>SMILES</th></tr><tr><td>str</td><td>str</td><td>str</td><td>str</td><td>str</td></tr></thead><tbody><tr><td>&quot;pkc23265011_00…</td><td>&quot;Predicted&quot;</td><td>&quot;C196H264N28O42…</td><td>&quot;VSVXSBOUSCXRHV…</td><td>&quot;CCC(C)C1NC(=O)…</td></tr><tr><td>&quot;pkc4839401_00&quot;</td><td>&quot;Predicted&quot;</td><td>&quot;C30H54O5&quot;</td><td>&quot;DFIZZOPIPCABQO…</td><td>&quot;CC(C)(O)C1CCC(…</td></tr><tr><td>&quot;pkc15078130_00…</td><td>&quot;Predicted&quot;</td><td>&quot;C98H150O46&quot;</td><td>&quot;GUPLUXOREGDWEY…</td><td>&quot;CC1COC2(OC3C(=…</td></tr><tr><td>&quot;pkc20455856_00…</td><td>&quot;Predicted&quot;</td><td>&quot;C112H182O57&quot;</td><td>&quot;LRDQDUJYGBZRHF…</td><td>&quot;CC(CCC1(O)OC2C…</td></tr><tr><td>&quot;pkc14099947_00…</td><td>&quot;Predicted&quot;</td><td>&quot;C55H76N4O6&quot;</td><td>&quot;IDOMGLHFKZGIAY…</td><td>&quot;CCC1=C(C)C2=NC…</td></tr><tr><td>&hellip;</td><td>&hellip;</td><td>&hellip;</td><td>&hellip;</td><td>&hellip;</td></tr><tr><td>&quot;pkc15078551_00…</td><td>&quot;Predicted&quot;</td><td>&quot;C59H94O28&quot;</td><td>&quot;MBEPZAHHZAJUIO…</td><td>&quot;CC1(C)CCC2(C(O…</td></tr><tr><td>&quot;pkc8057614_00&quot;</td><td>&quot;Predicted&quot;</td><td>&quot;C54H44N8O8&quot;</td><td>&quot;ZQXRZIDULPVPDN…</td><td>&quot;COC1C(=NO)CC2O…</td></tr><tr><td>&quot;pkc18854069_00…</td><td>&quot;Predicted&quot;</td><td>&quot;C53H92O25&quot;</td><td>&quot;VJTPPXUUGRQHMB…</td><td>&quot;CC(C)(C=CCC(C)…</td></tr><tr><td>&quot;pkc11947235_00…</td><td>&quot;Predicted&quot;</td><td>&quot;C63H96O26&quot;</td><td>&quot;IDLQCQNCCAOUFH…</td><td>&quot;COC(C)C(OC1CC(…</td></tr><tr><td>&quot;pkc8327845_00&quot;</td><td>&quot;Predicted&quot;</td><td>&quot;C38H56O5&quot;</td><td>&quot;XZDTVMGWNSVHAJ…</td><td>&quot;CC(C)=CC1CC(C2…</td></tr></tbody></table></div>"
      ],
      "text/plain": [
       "shape: (24_182_493, 5)\n",
       "┌────────────────┬───────────┬────────────────┬──────────────────────────┬─────────────────────────┐\n",
       "│ ID             ┆ Type      ┆ Formula        ┆ InChIKey                 ┆ SMILES                  │\n",
       "│ ---            ┆ ---       ┆ ---            ┆ ---                      ┆ ---                     │\n",
       "│ str            ┆ str       ┆ str            ┆ str                      ┆ str                     │\n",
       "╞════════════════╪═══════════╪════════════════╪══════════════════════════╪═════════════════════════╡\n",
       "│ pkc23265011_00 ┆ Predicted ┆ C196H264N28O42 ┆ VSVXSBOUSCXRHV-UHFFFAOYS ┆ CCC(C)C1NC(=O)C(NC(=O)N │\n",
       "│                ┆           ┆                ┆ A-N                      ┆ C(Cc2ccc(…              │\n",
       "│ pkc4839401_00  ┆ Predicted ┆ C30H54O5       ┆ DFIZZOPIPCABQO-UHFFFAOYS ┆ CC(C)(O)C1CCC(C)(C2CCC3 │\n",
       "│                ┆           ┆                ┆ A-N                      ┆ (C)C2CCC(…              │\n",
       "│ pkc15078130_00 ┆ Predicted ┆ C98H150O46     ┆ GUPLUXOREGDWEY-UHFFFAOYS ┆ CC1COC2(OC3C(=O)C4C5CC= │\n",
       "│                ┆           ┆                ┆ A-N                      ┆ C6CC(O)CC…              │\n",
       "│ pkc20455856_00 ┆ Predicted ┆ C112H182O57    ┆ LRDQDUJYGBZRHF-UHFFFAOYS ┆ CC(CCC1(O)OC2CC3C4CCC5C │\n",
       "│                ┆           ┆                ┆ A-N                      ┆ C(OC6OC(C…              │\n",
       "│ pkc14099947_00 ┆ Predicted ┆ C55H76N4O6     ┆ IDOMGLHFKZGIAY-UHFFFAOYS ┆ CCC1=C(C)C2=NC13CC1C4C5 │\n",
       "│                ┆           ┆                ┆ A-N                      ┆ =NC(=C(C)…              │\n",
       "│ …              ┆ …         ┆ …              ┆ …                        ┆ …                       │\n",
       "│ pkc15078551_00 ┆ Predicted ┆ C59H94O28      ┆ MBEPZAHHZAJUIO-UHFFFAOYS ┆ CC1(C)CCC2(C(O)OC3OC(CO │\n",
       "│                ┆           ┆                ┆ A-N                      ┆ )C(O)C4OC…              │\n",
       "│ pkc8057614_00  ┆ Predicted ┆ C54H44N8O8     ┆ ZQXRZIDULPVPDN-UHFFFAOYS ┆ COC1C(=NO)CC2OC1(C)NC(= │\n",
       "│                ┆           ┆                ┆ A-N                      ┆ O)c1c(c3c…              │\n",
       "│ pkc18854069_00 ┆ Predicted ┆ C53H92O25      ┆ VJTPPXUUGRQHMB-UHFFFAOYS ┆ CC(C)(C=CCC(C)(OC1OC(CO │\n",
       "│                ┆           ┆                ┆ A-N                      ┆ C2OC(CO)C…              │\n",
       "│ pkc11947235_00 ┆ Predicted ┆ C63H96O26      ┆ IDLQCQNCCAOUFH-UHFFFAOYS ┆ COC(C)C(OC1CC(OC)C(OC2C │\n",
       "│                ┆           ┆                ┆ A-N                      ┆ C(OC)C(OC…              │\n",
       "│ pkc8327845_00  ┆ Predicted ┆ C38H56O5       ┆ XZDTVMGWNSVHAJ-UHFFFAOYS ┆ CC(C)=CC1CC(C2CC(O)C(C) │\n",
       "│                ┆           ┆                ┆ A-N                      ┆ (C)C3CC=C…              │\n",
       "└────────────────┴───────────┴────────────────┴──────────────────────────┴─────────────────────────┘"
      ]
     },
     "execution_count": 3,
     "metadata": {},
     "output_type": "execute_result"
    }
   ],
   "source": [
    "import polars as pl\n",
    "\n",
    "df_comp = pl.read_parquet(\"renamed_files/compounds_1_generalized_230106_frozen_metadata_for_MINES_split_00.csv_77226.91_.parquet\")\n",
    "\n",
    "df"
   ]
  },
  {
   "cell_type": "code",
   "execution_count": 4,
   "id": "a3ade79a-607c-43d1-90c6-50db99743905",
   "metadata": {},
   "outputs": [
    {
     "data": {
      "text/html": [
       "<div><style>\n",
       ".dataframe > thead > tr,\n",
       ".dataframe > tbody > tr {\n",
       "  text-align: right;\n",
       "  white-space: pre-wrap;\n",
       "}\n",
       "</style>\n",
       "<small>shape: (27_478_101, 5)</small><table border=\"1\" class=\"dataframe\"><thead><tr><th>ID</th><th>ID equation</th><th>SMILES equation</th><th>Rxn hash</th><th>Reaction rules</th></tr><tr><td>str</td><td>str</td><td>str</td><td>str</td><td>str</td></tr></thead><tbody><tr><td>&quot;pkr24255372_00…</td><td>&quot;(1) http://www…</td><td>&quot;COC1CC(OC2C(C)…</td><td>&quot;Re1f85cc3ea160…</td><td>&quot;rule0822&quot;</td></tr><tr><td>&quot;pkr1787517_00&quot;</td><td>&quot;(1) http://www…</td><td>&quot;CC1C(=O)COC2C1…</td><td>&quot;R10a95a52f3a8c…</td><td>&quot;rule0415&quot;</td></tr><tr><td>&quot;pkr21243507_00…</td><td>&quot;(2) http://www…</td><td>&quot;C=C1CCC2C(C)(C…</td><td>&quot;Rc5ea950463553…</td><td>&quot;rule0126&quot;</td></tr><tr><td>&quot;pkr18023178_00…</td><td>&quot;(2) http://www…</td><td>&quot;CC(=O)OC1CC=C2…</td><td>&quot;Ra7eb27498874d…</td><td>&quot;rule0051&quot;</td></tr><tr><td>&quot;pkr18683913_00…</td><td>&quot;(1) http://www…</td><td>&quot;CC(C)=CCc1cc(C…</td><td>&quot;Rae1394404546f…</td><td>&quot;rule1085&quot;</td></tr><tr><td>&hellip;</td><td>&hellip;</td><td>&hellip;</td><td>&hellip;</td><td>&hellip;</td></tr><tr><td>&quot;pkr13449897_00…</td><td>&quot;(1) http://www…</td><td>&quot;CC=C1C[N+]2(C)…</td><td>&quot;R7d4bc5ca45410…</td><td>&quot;rule0288&quot;</td></tr><tr><td>&quot;pkr7707424_00&quot;</td><td>&quot;(2) http://www…</td><td>&quot;COc1cc(C(=O)O)…</td><td>&quot;R47c685bf6e9d6…</td><td>&quot;rule0567&quot;</td></tr><tr><td>&quot;pkr9824328_00&quot;</td><td>&quot;(1) http://www…</td><td>&quot;CCC=CC1CCCC(O)…</td><td>&quot;R5b847ab05a10a…</td><td>&quot;rule0110&quot;</td></tr><tr><td>&quot;pkr9973734_00&quot;</td><td>&quot;(1) http://www…</td><td>&quot;CNC(=N)NCCCC=C…</td><td>&quot;R5cea25ab503ac…</td><td>&quot;rule0198&quot;</td></tr><tr><td>&quot;pkr4494176_00&quot;</td><td>&quot;(1) http://www…</td><td>&quot;CC1OC(OC2CCC3(…</td><td>&quot;R29ddde38b6888…</td><td>&quot;rule0028&quot;</td></tr></tbody></table></div>"
      ],
      "text/plain": [
       "shape: (27_478_101, 5)\n",
       "┌────────────────┬─────────────────────┬─────────────────────┬────────────────────┬────────────────┐\n",
       "│ ID             ┆ ID equation         ┆ SMILES equation     ┆ Rxn hash           ┆ Reaction rules │\n",
       "│ ---            ┆ ---                 ┆ ---                 ┆ ---                ┆ ---            │\n",
       "│ str            ┆ str                 ┆ str                 ┆ str                ┆ str            │\n",
       "╞════════════════╪═════════════════════╪═════════════════════╪════════════════════╪════════════════╡\n",
       "│ pkr24255372_00 ┆ (1) http://www.wiki ┆ COC1CC(OC2C(C)OC3(C ┆ Re1f85cc3ea1601aca ┆ rule0822       │\n",
       "│                ┆ data.org/enti…      ┆ OC4C(C)OC(OC(…      ┆ ae045254551bc4…    ┆                │\n",
       "│ pkr1787517_00  ┆ (1) http://www.wiki ┆ CC1C(=O)COC2C1CC(OC ┆ R10a95a52f3a8c4d19 ┆ rule0415       │\n",
       "│                ┆ data.org/enti…      ┆ 1OC(CO)C(O)C(…      ┆ f52250f6d6a3ae…    ┆                │\n",
       "│ pkr21243507_00 ┆ (2) http://www.wiki ┆ C=C1CCC2C(C)(C)C(OC ┆ Rc5ea9504635531924 ┆ rule0126       │\n",
       "│                ┆ data.org/enti…      ┆ (C)=O)CCC2(C)…      ┆ 71ca036bcb10e6…    ┆                │\n",
       "│ pkr18023178_00 ┆ (2) http://www.wiki ┆ CC(=O)OC1CC=C2C(=O) ┆ Ra7eb27498874dbe99 ┆ rule0051       │\n",
       "│                ┆ data.org/enti…      ┆ OC3CC(C)C(C)(…      ┆ e20f5009602dba…    ┆                │\n",
       "│ pkr18683913_00 ┆ (1) http://www.wiki ┆ CC(C)=CCc1cc(C(=O)C ┆ Rae1394404546fdd4a ┆ rule1085       │\n",
       "│                ┆ data.org/enti…      ┆ =Cc2ccccc2)c(…      ┆ 354c9f903c6b62…    ┆                │\n",
       "│ …              ┆ …                   ┆ …                   ┆ …                  ┆ …              │\n",
       "│ pkr13449897_00 ┆ (1) http://www.wiki ┆ CC=C1C[N+]2(C)CCc3c ┆ R7d4bc5ca454102ef1 ┆ rule0288       │\n",
       "│                ┆ data.org/enti…      ┆ ([nH]c4ccc(O)…      ┆ d4a2767ab2651d…    ┆                │\n",
       "│ pkr7707424_00  ┆ (2) http://www.wiki ┆ COc1cc(C(=O)O)ccc1N ┆ R47c685bf6e9d6a66a ┆ rule0567       │\n",
       "│                ┆ data.org/enti…      ┆ C(=O)c1ccc(NC…      ┆ b58edaf3f27ba7…    ┆                │\n",
       "│ pkr9824328_00  ┆ (1) http://www.wiki ┆ CCC=CC1CCCC(O)C(C)C ┆ R5b847ab05a10a2fe7 ┆ rule0110       │\n",
       "│                ┆ data.org/enti…      ┆ (=O)C2=CC3C(C…      ┆ 832561022bafe5…    ┆                │\n",
       "│ pkr9973734_00  ┆ (1) http://www.wiki ┆ CNC(=N)NCCCC=CCCCC( ┆ R5cea25ab503acf55f ┆ rule0198       │\n",
       "│                ┆ data.org/enti…      ┆ C)CC(C)C1OC(=…      ┆ 3a88da7f510c90…    ┆                │\n",
       "│ pkr4494176_00  ┆ (1) http://www.wiki ┆ CC1OC(OC2CCC3(CO)C( ┆ R29ddde38b68886cd4 ┆ rule0028       │\n",
       "│                ┆ data.org/enti…      ┆ CCC4C3C(O)CC3…      ┆ 46f1149a36686d…    ┆                │\n",
       "└────────────────┴─────────────────────┴─────────────────────┴────────────────────┴────────────────┘"
      ]
     },
     "execution_count": 4,
     "metadata": {},
     "output_type": "execute_result"
    }
   ],
   "source": [
    "df_react = pl.read_parquet(\"renamed_files/reactions_1_generalized_230106_frozen_metadata_for_MINES_split_00.csv_77226.91_.parquet\")\n",
    "\n",
    "df_react"
   ]
  }
 ],
 "metadata": {
  "kernelspec": {
   "display_name": "Python 3 (ipykernel)",
   "language": "python",
   "name": "python3"
  },
  "language_info": {
   "codemirror_mode": {
    "name": "ipython",
    "version": 3
   },
   "file_extension": ".py",
   "mimetype": "text/x-python",
   "name": "python",
   "nbconvert_exporter": "python",
   "pygments_lexer": "ipython3",
   "version": "3.10.14"
  }
 },
 "nbformat": 4,
 "nbformat_minor": 5
}
